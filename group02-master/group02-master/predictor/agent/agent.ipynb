{
 "cells": [
  {
   "cell_type": "code",
   "execution_count": 1,
   "metadata": {},
   "outputs": [],
   "source": [
    "import pandas as pd \n",
    "import numpy as np \n",
    "from sklearn.ensemble import RandomForestRegressor\n",
    "import matplotlib_inline as plt "
   ]
  },
  {
   "cell_type": "code",
   "execution_count": 2,
   "metadata": {},
   "outputs": [],
   "source": [
    "data = pd.read_csv (\"/home/moalziab/group02/resources/felixstowe_rotterdam/felixstowe_rotterdam_cleaned.csv\")\n"
   ]
  },
  {
   "attachments": {},
   "cell_type": "markdown",
   "metadata": {},
   "source": [
    "creat the model"
   ]
  },
  {
   "cell_type": "code",
   "execution_count": 3,
   "metadata": {},
   "outputs": [],
   "source": [
    "model=RandomForestRegressor()"
   ]
  },
  {
   "attachments": {},
   "cell_type": "markdown",
   "metadata": {},
   "source": [
    "train the model "
   ]
  },
  {
   "cell_type": "code",
   "execution_count": 4,
   "metadata": {},
   "outputs": [
    {
     "data": {
      "text/html": [
       "<style>#sk-container-id-1 {color: black;background-color: white;}#sk-container-id-1 pre{padding: 0;}#sk-container-id-1 div.sk-toggleable {background-color: white;}#sk-container-id-1 label.sk-toggleable__label {cursor: pointer;display: block;width: 100%;margin-bottom: 0;padding: 0.3em;box-sizing: border-box;text-align: center;}#sk-container-id-1 label.sk-toggleable__label-arrow:before {content: \"▸\";float: left;margin-right: 0.25em;color: #696969;}#sk-container-id-1 label.sk-toggleable__label-arrow:hover:before {color: black;}#sk-container-id-1 div.sk-estimator:hover label.sk-toggleable__label-arrow:before {color: black;}#sk-container-id-1 div.sk-toggleable__content {max-height: 0;max-width: 0;overflow: hidden;text-align: left;background-color: #f0f8ff;}#sk-container-id-1 div.sk-toggleable__content pre {margin: 0.2em;color: black;border-radius: 0.25em;background-color: #f0f8ff;}#sk-container-id-1 input.sk-toggleable__control:checked~div.sk-toggleable__content {max-height: 200px;max-width: 100%;overflow: auto;}#sk-container-id-1 input.sk-toggleable__control:checked~label.sk-toggleable__label-arrow:before {content: \"▾\";}#sk-container-id-1 div.sk-estimator input.sk-toggleable__control:checked~label.sk-toggleable__label {background-color: #d4ebff;}#sk-container-id-1 div.sk-label input.sk-toggleable__control:checked~label.sk-toggleable__label {background-color: #d4ebff;}#sk-container-id-1 input.sk-hidden--visually {border: 0;clip: rect(1px 1px 1px 1px);clip: rect(1px, 1px, 1px, 1px);height: 1px;margin: -1px;overflow: hidden;padding: 0;position: absolute;width: 1px;}#sk-container-id-1 div.sk-estimator {font-family: monospace;background-color: #f0f8ff;border: 1px dotted black;border-radius: 0.25em;box-sizing: border-box;margin-bottom: 0.5em;}#sk-container-id-1 div.sk-estimator:hover {background-color: #d4ebff;}#sk-container-id-1 div.sk-parallel-item::after {content: \"\";width: 100%;border-bottom: 1px solid gray;flex-grow: 1;}#sk-container-id-1 div.sk-label:hover label.sk-toggleable__label {background-color: #d4ebff;}#sk-container-id-1 div.sk-serial::before {content: \"\";position: absolute;border-left: 1px solid gray;box-sizing: border-box;top: 0;bottom: 0;left: 50%;z-index: 0;}#sk-container-id-1 div.sk-serial {display: flex;flex-direction: column;align-items: center;background-color: white;padding-right: 0.2em;padding-left: 0.2em;position: relative;}#sk-container-id-1 div.sk-item {position: relative;z-index: 1;}#sk-container-id-1 div.sk-parallel {display: flex;align-items: stretch;justify-content: center;background-color: white;position: relative;}#sk-container-id-1 div.sk-item::before, #sk-container-id-1 div.sk-parallel-item::before {content: \"\";position: absolute;border-left: 1px solid gray;box-sizing: border-box;top: 0;bottom: 0;left: 50%;z-index: -1;}#sk-container-id-1 div.sk-parallel-item {display: flex;flex-direction: column;z-index: 1;position: relative;background-color: white;}#sk-container-id-1 div.sk-parallel-item:first-child::after {align-self: flex-end;width: 50%;}#sk-container-id-1 div.sk-parallel-item:last-child::after {align-self: flex-start;width: 50%;}#sk-container-id-1 div.sk-parallel-item:only-child::after {width: 0;}#sk-container-id-1 div.sk-dashed-wrapped {border: 1px dashed gray;margin: 0 0.4em 0.5em 0.4em;box-sizing: border-box;padding-bottom: 0.4em;background-color: white;}#sk-container-id-1 div.sk-label label {font-family: monospace;font-weight: bold;display: inline-block;line-height: 1.2em;}#sk-container-id-1 div.sk-label-container {text-align: center;}#sk-container-id-1 div.sk-container {/* jupyter's `normalize.less` sets `[hidden] { display: none; }` but bootstrap.min.css set `[hidden] { display: none !important; }` so we also need the `!important` here to be able to override the default hidden behavior on the sphinx rendered scikit-learn.org. See: https://github.com/scikit-learn/scikit-learn/issues/21755 */display: inline-block !important;position: relative;}#sk-container-id-1 div.sk-text-repr-fallback {display: none;}</style><div id=\"sk-container-id-1\" class=\"sk-top-container\"><div class=\"sk-text-repr-fallback\"><pre>RandomForestRegressor()</pre><b>In a Jupyter environment, please rerun this cell to show the HTML representation or trust the notebook. <br />On GitHub, the HTML representation is unable to render, please try loading this page with nbviewer.org.</b></div><div class=\"sk-container\" hidden><div class=\"sk-item\"><div class=\"sk-estimator sk-toggleable\"><input class=\"sk-toggleable__control sk-hidden--visually\" id=\"sk-estimator-id-1\" type=\"checkbox\" checked><label for=\"sk-estimator-id-1\" class=\"sk-toggleable__label sk-toggleable__label-arrow\">RandomForestRegressor</label><div class=\"sk-toggleable__content\"><pre>RandomForestRegressor()</pre></div></div></div></div></div>"
      ],
      "text/plain": [
       "RandomForestRegressor()"
      ]
     },
     "execution_count": 4,
     "metadata": {},
     "output_type": "execute_result"
    }
   ],
   "source": [
    "x=data[['EndLatitude','EndLongitude','Latitude','Longitude','time','shiptype','SOG','mean_dir_sin','mean_dir_cos','mean_size','time_remaining']]\n",
    "x=x[:int(len(data)-1)]\n",
    "y=data['EndTime']\n",
    "y=y[:int(len(data)-1)]\n",
    "model.fit(x,y)\n"
   ]
  },
  {
   "attachments": {},
   "cell_type": "markdown",
   "metadata": {},
   "source": [
    "Test the model"
   ]
  },
  {
   "cell_type": "code",
   "execution_count": 5,
   "metadata": {},
   "outputs": [
    {
     "name": "stdout",
     "output_type": "stream",
     "text": [
      "The model score is: 0.9999999998123072\n"
     ]
    }
   ],
   "source": [
    "predictions=model.predict(x)\n",
    "print ('The model score is:',model.score(x,y))"
   ]
  },
  {
   "cell_type": "code",
   "execution_count": 6,
   "metadata": {},
   "outputs": [
    {
     "name": "stdout",
     "output_type": "stream",
     "text": [
      "the model predicts  [1.47527808e+09]\n",
      "the actual value: 1475278080.0\n"
     ]
    }
   ],
   "source": [
    "new_data=data[['EndLatitude','EndLongitude','Latitude','Longitude','time','shiptype','SOG','mean_dir_sin','mean_dir_cos','mean_size','time_remaining']].tail(1)\n",
    "prediction = model.predict(new_data)\n",
    "print('the model predicts ', prediction)\n",
    "print ('the actual value:',data[['EndTime']].tail(1).values[0][0])\n"
   ]
  },
  {
   "cell_type": "code",
   "execution_count": 3,
   "metadata": {},
   "outputs": [
    {
     "data": {
      "text/html": [
       "<div>\n",
       "<style scoped>\n",
       "    .dataframe tbody tr th:only-of-type {\n",
       "        vertical-align: middle;\n",
       "    }\n",
       "\n",
       "    .dataframe tbody tr th {\n",
       "        vertical-align: top;\n",
       "    }\n",
       "\n",
       "    .dataframe thead th {\n",
       "        text-align: right;\n",
       "    }\n",
       "</style>\n",
       "<table border=\"1\" class=\"dataframe\">\n",
       "  <thead>\n",
       "    <tr style=\"text-align: right;\">\n",
       "      <th></th>\n",
       "      <th>EndLatitude</th>\n",
       "      <th>EndLongitude</th>\n",
       "      <th>Latitude</th>\n",
       "      <th>Longitude</th>\n",
       "      <th>EndTime</th>\n",
       "      <th>time</th>\n",
       "      <th>shiptype</th>\n",
       "      <th>SOG</th>\n",
       "      <th>mean_dir_sin</th>\n",
       "      <th>mean_dir_cos</th>\n",
       "      <th>mean_size</th>\n",
       "      <th>time_remaining</th>\n",
       "    </tr>\n",
       "  </thead>\n",
       "  <tbody>\n",
       "    <tr>\n",
       "      <th>0</th>\n",
       "      <td>51.9</td>\n",
       "      <td>4.36</td>\n",
       "      <td>51.95</td>\n",
       "      <td>1.31</td>\n",
       "      <td>1.453397e+09</td>\n",
       "      <td>1.453366e+09</td>\n",
       "      <td>79.0</td>\n",
       "      <td>1.2</td>\n",
       "      <td>-0.983255</td>\n",
       "      <td>0.182236</td>\n",
       "      <td>76.226667</td>\n",
       "      <td>30600.0</td>\n",
       "    </tr>\n",
       "    <tr>\n",
       "      <th>1</th>\n",
       "      <td>51.9</td>\n",
       "      <td>4.36</td>\n",
       "      <td>51.95</td>\n",
       "      <td>1.31</td>\n",
       "      <td>1.453397e+09</td>\n",
       "      <td>1.453366e+09</td>\n",
       "      <td>79.0</td>\n",
       "      <td>2.3</td>\n",
       "      <td>-0.945519</td>\n",
       "      <td>0.325568</td>\n",
       "      <td>76.226667</td>\n",
       "      <td>30540.0</td>\n",
       "    </tr>\n",
       "    <tr>\n",
       "      <th>2</th>\n",
       "      <td>51.9</td>\n",
       "      <td>4.36</td>\n",
       "      <td>51.95</td>\n",
       "      <td>1.30</td>\n",
       "      <td>1.453397e+09</td>\n",
       "      <td>1.453366e+09</td>\n",
       "      <td>79.0</td>\n",
       "      <td>4.6</td>\n",
       "      <td>-0.999848</td>\n",
       "      <td>0.017452</td>\n",
       "      <td>76.226667</td>\n",
       "      <td>30480.0</td>\n",
       "    </tr>\n",
       "    <tr>\n",
       "      <th>3</th>\n",
       "      <td>51.9</td>\n",
       "      <td>4.36</td>\n",
       "      <td>51.95</td>\n",
       "      <td>1.30</td>\n",
       "      <td>1.453397e+09</td>\n",
       "      <td>1.453366e+09</td>\n",
       "      <td>79.0</td>\n",
       "      <td>3.7</td>\n",
       "      <td>-0.814116</td>\n",
       "      <td>-0.580703</td>\n",
       "      <td>76.226667</td>\n",
       "      <td>30420.0</td>\n",
       "    </tr>\n",
       "    <tr>\n",
       "      <th>4</th>\n",
       "      <td>51.9</td>\n",
       "      <td>4.36</td>\n",
       "      <td>51.95</td>\n",
       "      <td>1.30</td>\n",
       "      <td>1.453397e+09</td>\n",
       "      <td>1.453366e+09</td>\n",
       "      <td>79.0</td>\n",
       "      <td>3.8</td>\n",
       "      <td>-0.258819</td>\n",
       "      <td>-0.965926</td>\n",
       "      <td>76.226667</td>\n",
       "      <td>30360.0</td>\n",
       "    </tr>\n",
       "  </tbody>\n",
       "</table>\n",
       "</div>"
      ],
      "text/plain": [
       "   EndLatitude  EndLongitude  Latitude  Longitude       EndTime          time  \\\n",
       "0         51.9          4.36     51.95       1.31  1.453397e+09  1.453366e+09   \n",
       "1         51.9          4.36     51.95       1.31  1.453397e+09  1.453366e+09   \n",
       "2         51.9          4.36     51.95       1.30  1.453397e+09  1.453366e+09   \n",
       "3         51.9          4.36     51.95       1.30  1.453397e+09  1.453366e+09   \n",
       "4         51.9          4.36     51.95       1.30  1.453397e+09  1.453366e+09   \n",
       "\n",
       "   shiptype  SOG  mean_dir_sin  mean_dir_cos  mean_size  time_remaining  \n",
       "0      79.0  1.2     -0.983255      0.182236  76.226667         30600.0  \n",
       "1      79.0  2.3     -0.945519      0.325568  76.226667         30540.0  \n",
       "2      79.0  4.6     -0.999848      0.017452  76.226667         30480.0  \n",
       "3      79.0  3.7     -0.814116     -0.580703  76.226667         30420.0  \n",
       "4      79.0  3.8     -0.258819     -0.965926  76.226667         30360.0  "
      ]
     },
     "execution_count": 3,
     "metadata": {},
     "output_type": "execute_result"
    }
   ],
   "source": [
    "data.head()\n"
   ]
  },
  {
   "cell_type": "code",
   "execution_count": 4,
   "metadata": {},
   "outputs": [
    {
     "data": {
      "text/html": [
       "<div>\n",
       "<style scoped>\n",
       "    .dataframe tbody tr th:only-of-type {\n",
       "        vertical-align: middle;\n",
       "    }\n",
       "\n",
       "    .dataframe tbody tr th {\n",
       "        vertical-align: top;\n",
       "    }\n",
       "\n",
       "    .dataframe thead th {\n",
       "        text-align: right;\n",
       "    }\n",
       "</style>\n",
       "<table border=\"1\" class=\"dataframe\">\n",
       "  <thead>\n",
       "    <tr style=\"text-align: right;\">\n",
       "      <th></th>\n",
       "      <th>EndLatitude</th>\n",
       "      <th>EndLongitude</th>\n",
       "      <th>Latitude</th>\n",
       "      <th>Longitude</th>\n",
       "      <th>EndTime</th>\n",
       "      <th>time</th>\n",
       "      <th>shiptype</th>\n",
       "      <th>SOG</th>\n",
       "      <th>mean_dir_sin</th>\n",
       "      <th>mean_dir_cos</th>\n",
       "      <th>mean_size</th>\n",
       "      <th>time_remaining</th>\n",
       "    </tr>\n",
       "  </thead>\n",
       "  <tbody>\n",
       "    <tr>\n",
       "      <th>427004</th>\n",
       "      <td>51.95</td>\n",
       "      <td>3.99</td>\n",
       "      <td>51.96</td>\n",
       "      <td>4.04</td>\n",
       "      <td>1.475278e+09</td>\n",
       "      <td>1.475274e+09</td>\n",
       "      <td>71.0</td>\n",
       "      <td>6.5</td>\n",
       "      <td>-0.935135</td>\n",
       "      <td>0.354291</td>\n",
       "      <td>155.2</td>\n",
       "      <td>3660.0</td>\n",
       "    </tr>\n",
       "    <tr>\n",
       "      <th>427005</th>\n",
       "      <td>51.95</td>\n",
       "      <td>3.99</td>\n",
       "      <td>51.96</td>\n",
       "      <td>3.99</td>\n",
       "      <td>1.475278e+09</td>\n",
       "      <td>1.475276e+09</td>\n",
       "      <td>71.0</td>\n",
       "      <td>4.5</td>\n",
       "      <td>0.096714</td>\n",
       "      <td>-0.995312</td>\n",
       "      <td>155.2</td>\n",
       "      <td>2040.0</td>\n",
       "    </tr>\n",
       "    <tr>\n",
       "      <th>427006</th>\n",
       "      <td>51.95</td>\n",
       "      <td>3.99</td>\n",
       "      <td>51.95</td>\n",
       "      <td>3.99</td>\n",
       "      <td>1.475278e+09</td>\n",
       "      <td>1.475277e+09</td>\n",
       "      <td>71.0</td>\n",
       "      <td>0.9</td>\n",
       "      <td>-0.284852</td>\n",
       "      <td>-0.958572</td>\n",
       "      <td>155.2</td>\n",
       "      <td>840.0</td>\n",
       "    </tr>\n",
       "    <tr>\n",
       "      <th>427007</th>\n",
       "      <td>51.95</td>\n",
       "      <td>3.99</td>\n",
       "      <td>51.95</td>\n",
       "      <td>3.99</td>\n",
       "      <td>1.475278e+09</td>\n",
       "      <td>1.475277e+09</td>\n",
       "      <td>71.0</td>\n",
       "      <td>0.8</td>\n",
       "      <td>-0.297375</td>\n",
       "      <td>-0.954761</td>\n",
       "      <td>155.2</td>\n",
       "      <td>720.0</td>\n",
       "    </tr>\n",
       "    <tr>\n",
       "      <th>427008</th>\n",
       "      <td>51.95</td>\n",
       "      <td>3.99</td>\n",
       "      <td>51.99</td>\n",
       "      <td>3.76</td>\n",
       "      <td>1.475278e+09</td>\n",
       "      <td>1.475268e+09</td>\n",
       "      <td>71.0</td>\n",
       "      <td>4.4</td>\n",
       "      <td>0.942057</td>\n",
       "      <td>-0.335452</td>\n",
       "      <td>155.2</td>\n",
       "      <td>9780.0</td>\n",
       "    </tr>\n",
       "  </tbody>\n",
       "</table>\n",
       "</div>"
      ],
      "text/plain": [
       "        EndLatitude  EndLongitude  Latitude  Longitude       EndTime  \\\n",
       "427004        51.95          3.99     51.96       4.04  1.475278e+09   \n",
       "427005        51.95          3.99     51.96       3.99  1.475278e+09   \n",
       "427006        51.95          3.99     51.95       3.99  1.475278e+09   \n",
       "427007        51.95          3.99     51.95       3.99  1.475278e+09   \n",
       "427008        51.95          3.99     51.99       3.76  1.475278e+09   \n",
       "\n",
       "                time  shiptype  SOG  mean_dir_sin  mean_dir_cos  mean_size  \\\n",
       "427004  1.475274e+09      71.0  6.5     -0.935135      0.354291      155.2   \n",
       "427005  1.475276e+09      71.0  4.5      0.096714     -0.995312      155.2   \n",
       "427006  1.475277e+09      71.0  0.9     -0.284852     -0.958572      155.2   \n",
       "427007  1.475277e+09      71.0  0.8     -0.297375     -0.954761      155.2   \n",
       "427008  1.475268e+09      71.0  4.4      0.942057     -0.335452      155.2   \n",
       "\n",
       "        time_remaining  \n",
       "427004          3660.0  \n",
       "427005          2040.0  \n",
       "427006           840.0  \n",
       "427007           720.0  \n",
       "427008          9780.0  "
      ]
     },
     "execution_count": 4,
     "metadata": {},
     "output_type": "execute_result"
    }
   ],
   "source": [
    "data.tail()"
   ]
  },
  {
   "cell_type": "code",
   "execution_count": 5,
   "metadata": {},
   "outputs": [
    {
     "data": {
      "text/plain": [
       "Index(['EndLatitude', 'EndLongitude', 'Latitude', 'Longitude', 'EndTime',\n",
       "       'time', 'shiptype', 'SOG', 'mean_dir_sin', 'mean_dir_cos', 'mean_size',\n",
       "       'time_remaining'],\n",
       "      dtype='object')"
      ]
     },
     "execution_count": 5,
     "metadata": {},
     "output_type": "execute_result"
    }
   ],
   "source": [
    "data.columns"
   ]
  },
  {
   "cell_type": "code",
   "execution_count": 6,
   "metadata": {},
   "outputs": [
    {
     "data": {
      "text/plain": [
       "(427009, 12)"
      ]
     },
     "execution_count": 6,
     "metadata": {},
     "output_type": "execute_result"
    }
   ],
   "source": [
    "data.shape"
   ]
  },
  {
   "cell_type": "code",
   "execution_count": 7,
   "metadata": {},
   "outputs": [
    {
     "data": {
      "text/html": [
       "<div>\n",
       "<style scoped>\n",
       "    .dataframe tbody tr th:only-of-type {\n",
       "        vertical-align: middle;\n",
       "    }\n",
       "\n",
       "    .dataframe tbody tr th {\n",
       "        vertical-align: top;\n",
       "    }\n",
       "\n",
       "    .dataframe thead th {\n",
       "        text-align: right;\n",
       "    }\n",
       "</style>\n",
       "<table border=\"1\" class=\"dataframe\">\n",
       "  <thead>\n",
       "    <tr style=\"text-align: right;\">\n",
       "      <th></th>\n",
       "      <th>EndLatitude</th>\n",
       "      <th>EndLongitude</th>\n",
       "      <th>Latitude</th>\n",
       "      <th>Longitude</th>\n",
       "      <th>EndTime</th>\n",
       "      <th>time</th>\n",
       "      <th>shiptype</th>\n",
       "      <th>SOG</th>\n",
       "      <th>mean_dir_sin</th>\n",
       "      <th>mean_dir_cos</th>\n",
       "      <th>mean_size</th>\n",
       "      <th>time_remaining</th>\n",
       "    </tr>\n",
       "  </thead>\n",
       "  <tbody>\n",
       "    <tr>\n",
       "      <th>count</th>\n",
       "      <td>427009.000000</td>\n",
       "      <td>427009.000000</td>\n",
       "      <td>427009.000000</td>\n",
       "      <td>427009.000000</td>\n",
       "      <td>4.270090e+05</td>\n",
       "      <td>4.270090e+05</td>\n",
       "      <td>427009.000000</td>\n",
       "      <td>427009.000000</td>\n",
       "      <td>427009.000000</td>\n",
       "      <td>427009.000000</td>\n",
       "      <td>427009.000000</td>\n",
       "      <td>427009.00000</td>\n",
       "    </tr>\n",
       "    <tr>\n",
       "      <th>mean</th>\n",
       "      <td>51.912918</td>\n",
       "      <td>4.270478</td>\n",
       "      <td>51.947846</td>\n",
       "      <td>2.815857</td>\n",
       "      <td>1.468312e+09</td>\n",
       "      <td>1.468296e+09</td>\n",
       "      <td>74.250683</td>\n",
       "      <td>12.856317</td>\n",
       "      <td>0.795339</td>\n",
       "      <td>-0.068338</td>\n",
       "      <td>74.521678</td>\n",
       "      <td>16618.48050</td>\n",
       "    </tr>\n",
       "    <tr>\n",
       "      <th>std</th>\n",
       "      <td>0.035468</td>\n",
       "      <td>0.139774</td>\n",
       "      <td>0.054692</td>\n",
       "      <td>1.145321</td>\n",
       "      <td>1.147133e+07</td>\n",
       "      <td>1.147184e+07</td>\n",
       "      <td>4.303623</td>\n",
       "      <td>4.692990</td>\n",
       "      <td>0.438441</td>\n",
       "      <td>0.412960</td>\n",
       "      <td>22.553831</td>\n",
       "      <td>11782.96138</td>\n",
       "    </tr>\n",
       "    <tr>\n",
       "      <th>min</th>\n",
       "      <td>51.680000</td>\n",
       "      <td>3.890000</td>\n",
       "      <td>50.930000</td>\n",
       "      <td>1.080000</td>\n",
       "      <td>1.452708e+09</td>\n",
       "      <td>1.452675e+09</td>\n",
       "      <td>70.000000</td>\n",
       "      <td>0.200000</td>\n",
       "      <td>-1.000000</td>\n",
       "      <td>-1.000000</td>\n",
       "      <td>1.633333</td>\n",
       "      <td>0.00000</td>\n",
       "    </tr>\n",
       "    <tr>\n",
       "      <th>25%</th>\n",
       "      <td>51.900000</td>\n",
       "      <td>4.120000</td>\n",
       "      <td>51.920000</td>\n",
       "      <td>1.680000</td>\n",
       "      <td>1.458717e+09</td>\n",
       "      <td>1.458710e+09</td>\n",
       "      <td>70.000000</td>\n",
       "      <td>10.400000</td>\n",
       "      <td>0.857616</td>\n",
       "      <td>-0.308187</td>\n",
       "      <td>59.623333</td>\n",
       "      <td>5340.00000</td>\n",
       "    </tr>\n",
       "    <tr>\n",
       "      <th>50%</th>\n",
       "      <td>51.900000</td>\n",
       "      <td>4.360000</td>\n",
       "      <td>51.950000</td>\n",
       "      <td>2.700000</td>\n",
       "      <td>1.466578e+09</td>\n",
       "      <td>1.466567e+09</td>\n",
       "      <td>71.000000</td>\n",
       "      <td>13.800000</td>\n",
       "      <td>0.970506</td>\n",
       "      <td>-0.043619</td>\n",
       "      <td>76.233333</td>\n",
       "      <td>17280.00000</td>\n",
       "    </tr>\n",
       "    <tr>\n",
       "      <th>75%</th>\n",
       "      <td>51.940000</td>\n",
       "      <td>4.360000</td>\n",
       "      <td>51.990000</td>\n",
       "      <td>3.990000</td>\n",
       "      <td>1.474294e+09</td>\n",
       "      <td>1.474263e+09</td>\n",
       "      <td>79.000000</td>\n",
       "      <td>15.900000</td>\n",
       "      <td>0.990983</td>\n",
       "      <td>0.190809</td>\n",
       "      <td>76.533333</td>\n",
       "      <td>26340.00000</td>\n",
       "    </tr>\n",
       "    <tr>\n",
       "      <th>max</th>\n",
       "      <td>51.990000</td>\n",
       "      <td>4.630000</td>\n",
       "      <td>52.320000</td>\n",
       "      <td>4.630000</td>\n",
       "      <td>1.494185e+09</td>\n",
       "      <td>1.494185e+09</td>\n",
       "      <td>79.000000</td>\n",
       "      <td>76.800000</td>\n",
       "      <td>1.000000</td>\n",
       "      <td>0.999848</td>\n",
       "      <td>157.573333</td>\n",
       "      <td>53940.00000</td>\n",
       "    </tr>\n",
       "  </tbody>\n",
       "</table>\n",
       "</div>"
      ],
      "text/plain": [
       "         EndLatitude   EndLongitude       Latitude      Longitude  \\\n",
       "count  427009.000000  427009.000000  427009.000000  427009.000000   \n",
       "mean       51.912918       4.270478      51.947846       2.815857   \n",
       "std         0.035468       0.139774       0.054692       1.145321   \n",
       "min        51.680000       3.890000      50.930000       1.080000   \n",
       "25%        51.900000       4.120000      51.920000       1.680000   \n",
       "50%        51.900000       4.360000      51.950000       2.700000   \n",
       "75%        51.940000       4.360000      51.990000       3.990000   \n",
       "max        51.990000       4.630000      52.320000       4.630000   \n",
       "\n",
       "            EndTime          time       shiptype            SOG  \\\n",
       "count  4.270090e+05  4.270090e+05  427009.000000  427009.000000   \n",
       "mean   1.468312e+09  1.468296e+09      74.250683      12.856317   \n",
       "std    1.147133e+07  1.147184e+07       4.303623       4.692990   \n",
       "min    1.452708e+09  1.452675e+09      70.000000       0.200000   \n",
       "25%    1.458717e+09  1.458710e+09      70.000000      10.400000   \n",
       "50%    1.466578e+09  1.466567e+09      71.000000      13.800000   \n",
       "75%    1.474294e+09  1.474263e+09      79.000000      15.900000   \n",
       "max    1.494185e+09  1.494185e+09      79.000000      76.800000   \n",
       "\n",
       "        mean_dir_sin   mean_dir_cos      mean_size  time_remaining  \n",
       "count  427009.000000  427009.000000  427009.000000    427009.00000  \n",
       "mean        0.795339      -0.068338      74.521678     16618.48050  \n",
       "std         0.438441       0.412960      22.553831     11782.96138  \n",
       "min        -1.000000      -1.000000       1.633333         0.00000  \n",
       "25%         0.857616      -0.308187      59.623333      5340.00000  \n",
       "50%         0.970506      -0.043619      76.233333     17280.00000  \n",
       "75%         0.990983       0.190809      76.533333     26340.00000  \n",
       "max         1.000000       0.999848     157.573333     53940.00000  "
      ]
     },
     "execution_count": 7,
     "metadata": {},
     "output_type": "execute_result"
    }
   ],
   "source": [
    "data.describe()"
   ]
  },
  {
   "cell_type": "code",
   "execution_count": 9,
   "metadata": {},
   "outputs": [
    {
     "data": {
      "text/plain": [
       "EndLatitude       0\n",
       "EndLongitude      0\n",
       "Latitude          0\n",
       "Longitude         0\n",
       "EndTime           0\n",
       "time              0\n",
       "shiptype          0\n",
       "SOG               0\n",
       "mean_dir_sin      0\n",
       "mean_dir_cos      0\n",
       "mean_size         0\n",
       "time_remaining    0\n",
       "dtype: int64"
      ]
     },
     "execution_count": 9,
     "metadata": {},
     "output_type": "execute_result"
    }
   ],
   "source": [
    "data.isnull().sum()"
   ]
  },
  {
   "cell_type": "code",
   "execution_count": null,
   "metadata": {},
   "outputs": [],
   "source": [
    "from sklearn.ensemble import RandomForestRegressor\n",
    "from sklearn.model_selection import train_test_split\n",
    "from sklearn.metrics import mean_squared_error\n",
    "from sklearn.preprocessing import StandardScaler"
   ]
  }
 ],
 "metadata": {
  "kernelspec": {
   "display_name": "Python 3",
   "language": "python",
   "name": "python3"
  },
  "language_info": {
   "codemirror_mode": {
    "name": "ipython",
    "version": 3
   },
   "file_extension": ".py",
   "mimetype": "text/x-python",
   "name": "python",
   "nbconvert_exporter": "python",
   "pygments_lexer": "ipython3",
   "version": "3.10.6"
  },
  "orig_nbformat": 4
 },
 "nbformat": 4,
 "nbformat_minor": 2
}
