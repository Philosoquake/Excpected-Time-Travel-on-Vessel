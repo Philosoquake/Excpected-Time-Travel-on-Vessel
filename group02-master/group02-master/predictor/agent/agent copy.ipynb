{
 "cells": [
  {
   "cell_type": "code",
   "execution_count": 12,
   "metadata": {},
   "outputs": [],
   "source": [
    "import pandas as pd\n",
    "import numpy as np\n",
    "from sklearn.ensemble import RandomForestRegressor\n",
    "from sklearn.model_selection import train_test_split\n",
    "from sklearn.metrics import mean_absolute_error\n",
    "from sklearn.preprocessing import LabelEncoder\n",
    "from joblib import dump, load\n"
   ]
  },
  {
   "cell_type": "code",
   "execution_count": 13,
   "metadata": {},
   "outputs": [
    {
     "name": "stdout",
     "output_type": "stream",
     "text": [
      "File not found: ./resources/felixstowe_rotterdam/felixstowe_rotterdam_cleaned.csv\n"
     ]
    },
    {
     "ename": "AttributeError",
     "evalue": "'VesselTravelTimePredictor' object has no attribute 'data'",
     "output_type": "error",
     "traceback": [
      "\u001b[0;31m---------------------------------------------------------------------------\u001b[0m",
      "\u001b[0;31mAttributeError\u001b[0m                            Traceback (most recent call last)",
      "Cell \u001b[0;32mIn[13], line 1\u001b[0m\n\u001b[0;32m----> 1\u001b[0m \u001b[39mfrom\u001b[39;00m \u001b[39magent\u001b[39;00m \u001b[39mimport\u001b[39;00m VesselTravelTimePredictor\n\u001b[1;32m      3\u001b[0m predictor \u001b[39m=\u001b[39m VesselTravelTimePredictor()\n\u001b[1;32m      4\u001b[0m predictor\u001b[39m.\u001b[39mload_data(\u001b[39m\"\u001b[39m\u001b[39m./resources/felixstowe_rotterdam/felixstowe_rotterdam_cleaned.csv\u001b[39m\u001b[39m\"\u001b[39m)  \u001b[39m# load data from CSV file 1\u001b[39;00m\n",
      "File \u001b[0;32m~/group02/predictor/agent/agent.py:60\u001b[0m\n\u001b[1;32m     58\u001b[0m predictor \u001b[39m=\u001b[39m VesselTravelTimePredictor()\n\u001b[1;32m     59\u001b[0m predictor\u001b[39m.\u001b[39mload_data(\u001b[39m\"\u001b[39m\u001b[39m./resources/felixstowe_rotterdam/felixstowe_rotterdam_cleaned.csv\u001b[39m\u001b[39m\"\u001b[39m)  \u001b[39m# load data from CSV file 1\u001b[39;00m\n\u001b[0;32m---> 60\u001b[0m predictor\u001b[39m.\u001b[39;49mpreprocess()\n\u001b[1;32m     61\u001b[0m predictor\u001b[39m.\u001b[39mtrain()\n\u001b[1;32m     62\u001b[0m predictor\u001b[39m.\u001b[39mload_data(\u001b[39m\"\u001b[39m\u001b[39m./resources/rotterdam_hamburg/rotterdam_hamburg_cleaned.csv\u001b[39m\u001b[39m\"\u001b[39m)  \u001b[39m# load data from CSV file 2\u001b[39;00m\n",
      "File \u001b[0;32m~/group02/predictor/agent/agent.py:22\u001b[0m, in \u001b[0;36mVesselTravelTimePredictor.preprocess\u001b[0;34m(self)\u001b[0m\n\u001b[1;32m     20\u001b[0m \u001b[39mdef\u001b[39;00m \u001b[39mpreprocess\u001b[39m(\u001b[39mself\u001b[39m):\n\u001b[1;32m     21\u001b[0m     \u001b[39mtry\u001b[39;00m:\n\u001b[0;32m---> 22\u001b[0m         x \u001b[39m=\u001b[39m \u001b[39mself\u001b[39;49m\u001b[39m.\u001b[39;49mdata[[\u001b[39m'\u001b[39m\u001b[39mEndLatitude\u001b[39m\u001b[39m'\u001b[39m, \u001b[39m'\u001b[39m\u001b[39mEndLongitude\u001b[39m\u001b[39m'\u001b[39m, \u001b[39m'\u001b[39m\u001b[39mLatitude\u001b[39m\u001b[39m'\u001b[39m, \u001b[39m'\u001b[39m\u001b[39mLongitude\u001b[39m\u001b[39m'\u001b[39m, \u001b[39m'\u001b[39m\u001b[39mtime\u001b[39m\u001b[39m'\u001b[39m, \u001b[39m'\u001b[39m\u001b[39mshiptype\u001b[39m\u001b[39m'\u001b[39m, \u001b[39m'\u001b[39m\u001b[39mSOG\u001b[39m\u001b[39m'\u001b[39m, \u001b[39m'\u001b[39m\u001b[39mmean_dir_sin\u001b[39m\u001b[39m'\u001b[39m, \u001b[39m'\u001b[39m\u001b[39mmean_dir_cos\u001b[39m\u001b[39m'\u001b[39m, \u001b[39m'\u001b[39m\u001b[39mmean_size\u001b[39m\u001b[39m'\u001b[39m, \u001b[39m'\u001b[39m\u001b[39mtime_remaining\u001b[39m\u001b[39m'\u001b[39m]]\u001b[39m.\u001b[39mcopy()\n\u001b[1;32m     23\u001b[0m         y \u001b[39m=\u001b[39m \u001b[39mself\u001b[39m\u001b[39m.\u001b[39mdata[\u001b[39m'\u001b[39m\u001b[39mEndTime\u001b[39m\u001b[39m'\u001b[39m]\u001b[39m.\u001b[39mcopy()\n\u001b[1;32m     24\u001b[0m     \u001b[39mexcept\u001b[39;00m \u001b[39mKeyError\u001b[39;00m \u001b[39mas\u001b[39;00m e:\n",
      "\u001b[0;31mAttributeError\u001b[0m: 'VesselTravelTimePredictor' object has no attribute 'data'"
     ]
    }
   ],
   "source": [
    "from agent import VesselTravelTimePredictor\n",
    "\n",
    "predictor = VesselTravelTimePredictor()\n",
    "predictor.load_data(\"./resources/felixstowe_rotterdam/felixstowe_rotterdam_cleaned.csv\")  # load data from CSV file 1\n",
    "predictor.preprocess()\n",
    "predictor.train()\n",
    "predictor.load_data(\"./resources/rotterdam_hamburg/rotterdam_hamburg_cleaned.csv\")  # load data from CSV file 2\n",
    "predictor.preprocess()\n",
    "predictor.train()\n",
    "new_data = predictor.data[['EndLatitude', 'EndLongitude', 'Latitude', 'Longitude', 'time', 'shiptype', 'SOG', 'mean_dir_sin', 'mean_dir_cos', 'mean_size', 'time_remaining']].tail(1)\n",
    "predictor.predict(new_data)\n",
    "predictor.save_model('./trainedmodel1.pkl')  # save the trained model\n",
    "predictor.load_model('./trainedmodel1.pkl')  # load the model"
   ]
  }
 ],
 "metadata": {
  "kernelspec": {
   "display_name": "Python 3",
   "language": "python",
   "name": "python3"
  },
  "language_info": {
   "codemirror_mode": {
    "name": "ipython",
    "version": 3
   },
   "file_extension": ".py",
   "mimetype": "text/x-python",
   "name": "python",
   "nbconvert_exporter": "python",
   "pygments_lexer": "ipython3",
   "version": "3.10.6"
  },
  "orig_nbformat": 4
 },
 "nbformat": 4,
 "nbformat_minor": 2
}
