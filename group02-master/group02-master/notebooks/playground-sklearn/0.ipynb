{
 "cells": [
  {
   "cell_type": "code",
   "execution_count": null,
   "metadata": {},
   "outputs": [],
   "source": [
    "import pandas as pd\n",
    "l = [\n",
    "    [20, 180, 80], \n",
    "    [20, 175, 75], \n",
    "    [15, 160, 50],\n",
    "]\n",
    "df = pd.DataFrame(l, columns=[\"Age\", \"Height\", \"Weight\"])\n",
    "df"
   ]
  },
  {
   "cell_type": "code",
   "execution_count": null,
   "metadata": {},
   "outputs": [],
   "source": [
    "df.groupby(by=[\"Age\"], group_keys=True).apply(lambda x: x)"
   ]
  },
  {
   "cell_type": "code",
   "execution_count": null,
   "metadata": {},
   "outputs": [],
   "source": [
    "import numpy as np\n",
    "from sklearn import preprocessing\n",
    "\n",
    "\n",
    "data = np.array([\n",
    "    [10, 0, 0],\n",
    "    [40, 300000, 400],\n",
    "    [21, 4000, 1000],\n",
    "])\n",
    "print(data)\n",
    "\n",
    "# scalar = preprocessing.StandardScaler()\n",
    "# scalar = preprocessing.MinMaxScaler()\n",
    "scalar = preprocessing.RobustScaler()\n",
    "# scalar = preprocessing.Normalizer()\n",
    "data_standardized = scalar.fit_transform(data)\n",
    "scalar.fit(data).transform(data)\n",
    "print(data_standardized)\n"
   ]
  },
  {
   "cell_type": "code",
   "execution_count": null,
   "metadata": {},
   "outputs": [],
   "source": [
    "import sklearn\n",
    "import numpy as np\n",
    "import pandas as pd\n",
    "import matplotlib.pyplot as plt\n",
    "from sklearn.datasets import load_iris\n",
    "\n",
    "#iris = load_iris(as_frame=True)\n",
    "iris: dict = load_iris(as_frame=True)\n",
    "data = iris['data']\n",
    "\n",
    "\n",
    "\n",
    "plt.scatter(data['sepal length (cm)'], data['sepal width (cm)'])\n",
    "plt.xlabel('sepal length (cm)')\n",
    "plt.ylabel('sepal width (cm)')\n",
    "plt.show()\n",
    "\n",
    "plt.scatter(data['petal length (cm)'], data['petal width (cm)'])\n",
    "plt.xlabel('petal length (cm)')\n",
    "plt.ylabel('petal width (cm)')\n",
    "plt.show()\n",
    "\n",
    "plt.scatter(data['sepal length (cm)'], data['petal length (cm)'])\n",
    "plt.xlabel('sepal length (cm)')\n",
    "plt.ylabel('petal length (cm)')\n",
    "plt.show()\n",
    "\n",
    "plt.scatter(data['sepal width (cm)'], data['petal width (cm)'])\n",
    "plt.xlabel('sepal width (cm)')\n",
    "plt.ylabel('petal width (cm)')\n",
    "plt.show()"
   ]
  },
  {
   "cell_type": "code",
   "execution_count": null,
   "metadata": {},
   "outputs": [],
   "source": [
    "df = pd.DataFrame(data, columns=iris['feature_names'])\n",
    "df['name'] = iris['target_names'][iris['target']]\n",
    "\n",
    "\n",
    "def name_color(name):\n",
    "    if name == 'setosa':\n",
    "        return 'red'\n",
    "    elif name == 'versicolor':\n",
    "        return 'green'\n",
    "    else:\n",
    "        return 'blue'\n",
    "\n",
    "\n",
    "colors = df['name'].apply(name_color)\n",
    "size = 5\n",
    "alpha = 0.2\n",
    "xlim = (0, 10)\n",
    "ylim = (0, 10)\n",
    "\n",
    "legend_handles = [plt.scatter([], [], color='red', label='setosa'),\n",
    "                  plt.scatter([], [], color='green', label='versicolor'),\n",
    "                  plt.scatter([], [], color='blue', label='virginica')]\n",
    "\n",
    "\n",
    "plt.scatter(df['sepal length (cm)'], df['sepal width (cm)'],\n",
    "            c=colors, s=size, alpha=alpha)\n",
    "plt.xlim(xlim)\n",
    "plt.ylim(ylim)\n",
    "plt.xlabel('sepal length (cm)')\n",
    "plt.ylabel('sepal width (cm)')\n",
    "plt.legend(handles=legend_handles)\n",
    "plt.show()\n",
    "\n",
    "plt.scatter(df['petal length (cm)'], df['petal width (cm)'],\n",
    "            c=colors, s=size, alpha=alpha)\n",
    "plt.xlim(xlim)\n",
    "plt.ylim(ylim)\n",
    "plt.xlabel('petal length (cm)')\n",
    "plt.ylabel('petal width (cm)')\n",
    "plt.legend(handles=legend_handles)\n",
    "plt.show()\n",
    "\n",
    "plt.scatter(df['sepal length (cm)'], df['petal length (cm)'],\n",
    "            c=colors, s=size, alpha=alpha)\n",
    "plt.xlim(xlim)\n",
    "plt.ylim(ylim)\n",
    "plt.xlabel('sepal length (cm)')\n",
    "plt.ylabel('petal length (cm)')\n",
    "plt.legend(handles=legend_handles)\n",
    "plt.show()\n",
    "\n",
    "plt.scatter(df['sepal width (cm)'], df['petal width (cm)'],\n",
    "            c=colors, s=size, alpha=alpha)\n",
    "plt.xlim(xlim)\n",
    "plt.ylim(ylim)\n",
    "plt.xlabel('sepal width (cm)')\n",
    "plt.ylabel('petal width (cm)')\n",
    "plt.legend(handles=legend_handles)\n",
    "plt.show()\n"
   ]
  },
  {
   "cell_type": "code",
   "execution_count": null,
   "metadata": {},
   "outputs": [],
   "source": [
    "import kaggle"
   ]
  },
  {
   "attachments": {},
   "cell_type": "markdown",
   "metadata": {},
   "source": []
  },
  {
   "cell_type": "code",
   "execution_count": null,
   "metadata": {},
   "outputs": [],
   "source": [
    "from faodata import faodownload\n",
    "\n",
    "databases = faodownload.get_databases()"
   ]
  }
 ],
 "metadata": {
  "kernelspec": {
   "display_name": "Python 3",
   "language": "python",
   "name": "python3"
  },
  "language_info": {
   "codemirror_mode": {
    "name": "ipython",
    "version": 3
   },
   "file_extension": ".py",
   "mimetype": "text/x-python",
   "name": "python",
   "nbconvert_exporter": "python",
   "pygments_lexer": "ipython3",
   "version": "3.11.4"
  },
  "orig_nbformat": 4
 },
 "nbformat": 4,
 "nbformat_minor": 2
}
